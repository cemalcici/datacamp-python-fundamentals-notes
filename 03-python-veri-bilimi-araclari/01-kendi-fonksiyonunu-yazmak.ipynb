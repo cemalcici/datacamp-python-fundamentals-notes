{
 "cells": [
  {
   "cell_type": "markdown",
   "metadata": {},
   "source": [
    "## Kullanıcı Tanımlı Fonksiyonlar"
   ]
  },
  {
   "cell_type": "code",
   "execution_count": 1,
   "metadata": {},
   "outputs": [
    {
     "data": {
      "text/plain": [
       "'5'"
      ]
     },
     "execution_count": 1,
     "metadata": {},
     "output_type": "execute_result"
    }
   ],
   "source": [
    "# Ön tanımlı fonksiyonlar\n",
    "str(5)"
   ]
  },
  {
   "cell_type": "code",
   "execution_count": 2,
   "metadata": {},
   "outputs": [
    {
     "data": {
      "text/plain": [
       "str"
      ]
     },
     "execution_count": 2,
     "metadata": {},
     "output_type": "execute_result"
    }
   ],
   "source": [
    "type(str(5))"
   ]
  },
  {
   "cell_type": "code",
   "execution_count": 3,
   "metadata": {},
   "outputs": [],
   "source": [
    "# Fonksiyon tanımlama\n",
    "def kare_al(): # fonksiyonun başlık kısmı\n",
    "    # fonksiyonun gövdesi\n",
    "    yeni_deger = 4 ** 2\n",
    "    print(yeni_deger)"
   ]
  },
  {
   "cell_type": "code",
   "execution_count": 4,
   "metadata": {},
   "outputs": [
    {
     "name": "stdout",
     "output_type": "stream",
     "text": [
      "16\n"
     ]
    }
   ],
   "source": [
    "kare_al()"
   ]
  },
  {
   "cell_type": "code",
   "execution_count": 5,
   "metadata": {},
   "outputs": [],
   "source": [
    "# Fonksiyona parametre tanımlama\n",
    "def kare_al(deger):\n",
    "    yeni_deger = deger ** 2\n",
    "    print(yeni_deger)"
   ]
  },
  {
   "cell_type": "code",
   "execution_count": 6,
   "metadata": {},
   "outputs": [
    {
     "ename": "TypeError",
     "evalue": "kare_al() missing 1 required positional argument: 'deger'",
     "output_type": "error",
     "traceback": [
      "\u001b[1;31m---------------------------------------------------------------------------\u001b[0m",
      "\u001b[1;31mTypeError\u001b[0m                                 Traceback (most recent call last)",
      "\u001b[1;32mc:\\Users\\pc\\Documents\\GitHub\\datacamp-python-fundamentals-notes\\03-python-veri-bilimi-araclari\\01-kendi-fonksiyonunu-yazmak.ipynb Hücre 7\u001b[0m in \u001b[0;36m<cell line: 1>\u001b[1;34m()\u001b[0m\n\u001b[1;32m----> <a href='vscode-notebook-cell:/c%3A/Users/pc/Documents/GitHub/datacamp-python-fundamentals-notes/03-python-veri-bilimi-araclari/01-kendi-fonksiyonunu-yazmak.ipynb#X11sZmlsZQ%3D%3D?line=0'>1</a>\u001b[0m kare_al()\n",
      "\u001b[1;31mTypeError\u001b[0m: kare_al() missing 1 required positional argument: 'deger'"
     ]
    }
   ],
   "source": [
    "kare_al()"
   ]
  },
  {
   "cell_type": "code",
   "execution_count": 7,
   "metadata": {},
   "outputs": [
    {
     "name": "stdout",
     "output_type": "stream",
     "text": [
      "16\n"
     ]
    }
   ],
   "source": [
    "kare_al(4)"
   ]
  },
  {
   "cell_type": "code",
   "execution_count": 8,
   "metadata": {},
   "outputs": [
    {
     "name": "stdout",
     "output_type": "stream",
     "text": [
      "25\n"
     ]
    }
   ],
   "source": [
    "kare_al(5)"
   ]
  },
  {
   "cell_type": "code",
   "execution_count": 9,
   "metadata": {},
   "outputs": [
    {
     "name": "stdout",
     "output_type": "stream",
     "text": [
      "16\n",
      "None\n"
     ]
    }
   ],
   "source": [
    "# Bir fonksiyonun değer döndürmesi\n",
    "print(kare_al(4)) # Fonksiyon çalışır ama None döner"
   ]
  },
  {
   "cell_type": "code",
   "execution_count": 10,
   "metadata": {},
   "outputs": [],
   "source": [
    "def kare_al(deger):\n",
    "    yeni_deger = deger ** 2\n",
    "    return yeni_deger"
   ]
  },
  {
   "cell_type": "code",
   "execution_count": 11,
   "metadata": {},
   "outputs": [
    {
     "name": "stdout",
     "output_type": "stream",
     "text": [
      "16\n"
     ]
    }
   ],
   "source": [
    "print(kare_al(4)) # None değeri gitti"
   ]
  },
  {
   "cell_type": "code",
   "execution_count": 12,
   "metadata": {},
   "outputs": [],
   "source": [
    "# Dokuman oluşturma\n",
    "def kare_al(deger):\n",
    "    \"\"\"Bir değerin karesini hesaplar ve döndürür.\"\"\"\n",
    "    yeni_deger = deger ** 2\n",
    "    return yeni_deger"
   ]
  },
  {
   "cell_type": "code",
   "execution_count": 13,
   "metadata": {},
   "outputs": [
    {
     "name": "stdout",
     "output_type": "stream",
     "text": [
      "Help on function kare_al in module __main__:\n",
      "\n",
      "kare_al(deger)\n",
      "    Bir değerin karesini hesaplar ve döndürür.\n",
      "\n"
     ]
    }
   ],
   "source": [
    "help(kare_al)"
   ]
  },
  {
   "cell_type": "markdown",
   "metadata": {},
   "source": [
    "## Birden Fazla Parametre Tanımlama ve Değer Döndürme"
   ]
  },
  {
   "cell_type": "code",
   "execution_count": 14,
   "metadata": {},
   "outputs": [],
   "source": [
    "# Birden fazla parametre almak\n",
    "def kare_alma_islemi(sayi1, sayi2):\n",
    "    \"\"\"Girilen iki sayıdan soldakinin sağdakine göre karesini alır.\"\"\"\n",
    "    yeni_deger = sayi1 ** sayi2\n",
    "    return yeni_deger"
   ]
  },
  {
   "cell_type": "code",
   "execution_count": 15,
   "metadata": {},
   "outputs": [
    {
     "data": {
      "text/plain": [
       "8"
      ]
     },
     "execution_count": 15,
     "metadata": {},
     "output_type": "execute_result"
    }
   ],
   "source": [
    "sonuc = kare_alma_islemi(2, 3) # 2^3\n",
    "sonuc"
   ]
  },
  {
   "cell_type": "code",
   "execution_count": 16,
   "metadata": {},
   "outputs": [],
   "source": [
    "# Birden fazla değer döndürmek\n",
    "def kare_alma_islemi(sayi1, sayi2):\n",
    "    \"\"\"Girilen iki sayıdan soldakinin sağdakine göre ve tam tersi şekilde karesini alır ve sonuçları döndürür.\"\"\"\n",
    "    yeni_deger = sayi1 ** sayi2\n",
    "    yeni_deger_tersi = sayi2 ** sayi1\n",
    "    return yeni_deger, yeni_deger_tersi"
   ]
  },
  {
   "cell_type": "code",
   "execution_count": 17,
   "metadata": {},
   "outputs": [
    {
     "data": {
      "text/plain": [
       "(8, 9)"
      ]
     },
     "execution_count": 17,
     "metadata": {},
     "output_type": "execute_result"
    }
   ],
   "source": [
    "sonuc = kare_alma_islemi(2, 3) # 2^3 ve 3^2\n",
    "sonuc"
   ]
  }
 ],
 "metadata": {
  "kernelspec": {
   "display_name": "Python 3.9.12 ('base')",
   "language": "python",
   "name": "python3"
  },
  "language_info": {
   "codemirror_mode": {
    "name": "ipython",
    "version": 3
   },
   "file_extension": ".py",
   "mimetype": "text/x-python",
   "name": "python",
   "nbconvert_exporter": "python",
   "pygments_lexer": "ipython3",
   "version": "3.9.12"
  },
  "orig_nbformat": 4,
  "vscode": {
   "interpreter": {
    "hash": "ad2bdc8ecc057115af97d19610ffacc2b4e99fae6737bb82f5d7fb13d2f2c186"
   }
  }
 },
 "nbformat": 4,
 "nbformat_minor": 2
}
